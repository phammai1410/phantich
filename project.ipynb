{
 "cells": [
  {
   "cell_type": "markdown",
   "id": "c218fcb8",
   "metadata": {},
   "source": [
    "## Project: Predicting Customer Purchase Frequency using Machine Learning"
   ]
  },
  {
   "cell_type": "markdown",
   "id": "8e2ca563",
   "metadata": {},
   "source": [
    "### 1.1 Phát biểu bài toán\n",
    "#### Mua sắm thường xuyên là một hành vi quan trọng giúp các doanh nghiệp thương mại điện tử duy trì doanh thu và phát triển chiến lược kinh doanh. Việc dự đoán chính xác liệu một khách hàng có mua sắm thường xuyên hay không có thể giúp doanh nghiệp tối ưu hóa chiến lược tiếp thị, tập trung vào các khách hàng tiềm năng và giảm chi phí tiếp cận không hiệu quả. Dự án này sử dụng tập dữ liệu shopping_trends_updated.csv để phân tích các yếu tố quyết định tần suất mua hàng của khách hàng.\n",
    "#### Tập dữ liệu này bao gồm 3,900 bản ghi và 18 thuộc tính ban đầu, bao gồm thông tin cá nhân của khách hàng như độ tuổi, số tiền mua hàng, số lần mua hàng trước đó, và các yếu tố liên quan đến hành vi mua sắm như phương thức vận chuyển, trạng thái đăng ký, địa điểm, và mặt hàng đã mua. Mục tiêu là xây dựng một mô hình học máy để dự đoán tần suất mua hàng của khách hàng, phân loại khách hàng vào hai nhóm: mua sắm thường xuyên (Frequency of Purchases = 0, bao gồm Weekly, Fortnightly, Bi-Weekly) hoặc không thường xuyên (Frequency of Purchases = 1, các giá trị còn lại).\n",
    "\n",
    "### 1.2 Mô tả vấn đề\n",
    "#### Sử dụng tập dữ liệu shopping_trends_updated.csv để xây dựng một mô hình học máy nhằm dự đoán khả năng một khách hàng sẽ mua sắm thường xuyên dựa trên thông tin cá nhân và hành vi mua sắm của họ. Mô hình sẽ phân loại khách hàng thành hai nhóm: mua sắm thường xuyên hoặc không thường xuyên.\n",
    "\n",
    "### 1.3 Giả thuyết\n",
    "#### Một số yếu tố có thể ảnh hưởng đến tần suất mua hàng của khách hàng:\n",
    "#### Age: Độ tuổi khách hàng.\n",
    "#### Purchase Amount (USD): Số tiền mua hàng.\n",
    "#### Previous Purchases: Số lần mua hàng trước đó.\n",
    "#### Location: Địa điểm của khách hàng.\n",
    "#### Shipping Type: Phương thức vận chuyển.\n",
    "#### Subscription Status: Trạng thái đăng ký của khách hàng.\n",
    "\n",
    "### 1.4 Quy trình thực hiện\n",
    "#### 1.4.1 General Overview: Tổng quan chung về dữ liệu\n",
    "#### Dữ liệu có tổng cộng 3,900 bản ghi và 18 thuộc tính.\n",
    "#### Các thuộc tính bao gồm thông tin cá nhân của khách hàng (độ tuổi, số tiền mua hàng, số lần mua hàng trước đó) và các yếu tố liên quan đến hành vi mua sắm (phương thức vận chuyển, trạng thái đăng ký, địa điểm, mặt hàng đã mua, màu sắc). Biến mục tiêu là Frequency_binary, với phân phối gần cân bằng: 39% khách hàng mua sắm thường xuyên (Frequency_binary = 0) và 61% khách hàng không thường xuyên (Frequency_binary = 1).\n",
    "\n",
    "#### 1.4.2 Xử lý dữ liệu\n",
    "#### Xử lý dữ liệu thiếu: Dựa trên phân tích, tập dữ liệu không có giá trị thiếu, nên không cần xử lý thêm.\n",
    "#### Tóm tắt thống kê dữ liệu: Đã thực hiện phân tích thống kê để kiểm tra phân phối của các biến liên tục (Age, Purchase Amount (USD), Previous Purchases) và biến định tính (Location, Shipping Type, v.v.).\n",
    "\n",
    "#### 1.4.3 Phân tích dữ liệu\n",
    "#### Đánh giá biến quan trọng bằng Random Forest:\n",
    "#### Sử dụng mô hình Random Forest (n_estimators=100) để tính feature_importance, xác định các biến có ảnh hưởng lớn nhất đến Frequency_binary. Trực quan hóa tầm quan trọng bằng biểu đồ cột.\n",
    "#### - Mã hóa biến định tính:\n",
    "#### Sử dụng get_dummies để mã hóa các biến định tính (Subscription Status, Location, Shipping Type, Payment Method, Item Purchased, Color) thành biến dummy.\n",
    "#### - Phân loại biến:\n",
    "#### Biến liên tục: Age, Purchase Amount (USD), Previous Purchases.\n",
    "#### Biến rời rạc: Các biến dummy từ Location, Shipping Type, v.v.\n",
    "#### - Phân tích biến liên tục:\n",
    "#### Dùng heatmap và boxplot để kiểm tra mối quan hệ tuyến tính và phân phối của các biến liên tục với Frequency_binary.\n",
    "#### Kiểm tra tương quan bằng Spearman Correlation để đánh giá mối quan hệ đơn điệu giữa các biến liên tục và Frequency_binary.\n",
    "#### - Phân tích biến rời rạc:\n",
    "#### Dùng sns.histplot để phân phối các biến rời rạc (Location, Shipping Type, v.v.) theo Frequency_binary, nhằm tìm các yếu tố định tính ảnh hưởng đến tần suất mua hàng.\n",
    "\n",
    "#### 1.4.4 Model Building: Xây dựng mô hình học máy\n",
    "#### - Sử dụng GLM để định lượng ảnh hưởng của các biến quan trọng với Frequency_binary:\n",
    "#### - Kiểm tra phân phối biến mục tiêu: Xác định tỷ lệ giữa hai lớp (Frequency_binary = 0: thường xuyên, và Frequency_binary = 1: không thường xuyên).\n",
    "#### - Chia dữ liệu: Chia dữ liệu thành tập huấn luyện (80%) và tập kiểm tra (20%).\n",
    "#### - Kiểm tra đa cộng tuyến: Tính VIF (Variance Inflation Factor) cho các biến liên tục (Age, Purchase Amount (USD), Previous Purchases) để kiểm tra đa cộng tuyến. Nếu cần, chuẩn hóa dữ liệu để giảm VIF.\n",
    "#### - Độc lập quan sát: Đảm bảo giả định các quan sát (khách hàng) là độc lập.\n",
    "#### - Chạy GLM:\n",
    "##### + Bắt đầu với GLM ban đầu (chỉ dùng biến liên tục).\n",
    "##### + Cải thiện GLM bằng cách thêm biến định tính (Location, Shipping Type, v.v.) và áp dụng SMOTE nếu dữ liệu mất cân bằng.(có thể thử)\n",
    "##### + Kiểm tra tính tuyến tính:\n",
    "##### + Tính xác suất dự đoán (y_pred_prob) từ GLM.\n",
    "##### + Tính log-odds: log(P/(1−P)).\n",
    "##### + Vẽ scatter plot giữa log-odds và các biến liên tục (Age, Purchase Amount (USD), Previous Purchases) kèm đường hồi quy để kiểm tra giả định tuyến tính của GLM.\n",
    "#### - Phân tích chi tiết kết quả GLM:\n",
    "##### + Đánh giá hệ số, p-value của các biến để xác định biến nào có ý nghĩa thống kê (p-value < 0.05).\n",
    "##### + So sánh hiệu suất giữa GLM ban đầu và GLM cải thiện, dựa trên các chỉ số như Pseudo R-squared, ma trận nhầm lẫn, và độ chính xác trên tập kiểm tra."
   ]
  }
 ],
 "metadata": {
  "language_info": {
   "name": "python"
  }
 },
 "nbformat": 4,
 "nbformat_minor": 5
}
